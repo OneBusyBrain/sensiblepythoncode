{
 "cells": [
  {
   "cell_type": "code",
   "execution_count": 44,
   "metadata": {},
   "outputs": [],
   "source": [
    "import numpy as np\n",
    "ar=np.arange(1024)"
   ]
  },
  {
   "cell_type": "code",
   "execution_count": 45,
   "metadata": {},
   "outputs": [
    {
     "name": "stdout",
     "output_type": "stream",
     "text": [
      "[[   0    1    2 ...    5    6    7]\n",
      " [   8    9   10 ...   13   14   15]\n",
      " [  16   17   18 ...   21   22   23]\n",
      " ...\n",
      " [1000 1001 1002 ... 1005 1006 1007]\n",
      " [1008 1009 1010 ... 1013 1014 1015]\n",
      " [1016 1017 1018 ... 1021 1022 1023]]\n"
     ]
    }
   ],
   "source": [
    "ar1=ar.reshape(128,8)\n",
    "print(ar1)"
   ]
  },
  {
   "cell_type": "code",
   "execution_count": 46,
   "metadata": {},
   "outputs": [
    {
     "name": "stdout",
     "output_type": "stream",
     "text": [
      "[[   0    1    2 ...   29   30   31]\n",
      " [  32   33   34 ...   61   62   63]\n",
      " [  64   65   66 ...   93   94   95]\n",
      " ...\n",
      " [ 928  929  930 ...  957  958  959]\n",
      " [ 960  961  962 ...  989  990  991]\n",
      " [ 992  993  994 ... 1021 1022 1023]]\n"
     ]
    }
   ],
   "source": [
    "ar2=ar.reshape(32,32)\n",
    "print(ar2)"
   ]
  },
  {
   "cell_type": "code",
   "execution_count": 47,
   "metadata": {},
   "outputs": [
    {
     "name": "stdout",
     "output_type": "stream",
     "text": [
      "[[   0    1    2 ...   61   62   63]\n",
      " [  64   65   66 ...  125  126  127]\n",
      " [ 128  129  130 ...  189  190  191]\n",
      " ...\n",
      " [ 832  833  834 ...  893  894  895]\n",
      " [ 896  897  898 ...  957  958  959]\n",
      " [ 960  961  962 ... 1021 1022 1023]]\n"
     ]
    }
   ],
   "source": [
    "ar3=ar.reshape(16,64)\n",
    "print(ar3)"
   ]
  },
  {
   "cell_type": "code",
   "execution_count": 48,
   "metadata": {},
   "outputs": [
    {
     "name": "stdout",
     "output_type": "stream",
     "text": [
      "[[   0    1    2    3]\n",
      " [   4    5    6    7]\n",
      " [   8    9   10   11]\n",
      " ...\n",
      " [1012 1013 1014 1015]\n",
      " [1016 1017 1018 1019]\n",
      " [1020 1021 1022 1023]]\n"
     ]
    }
   ],
   "source": [
    "ar4=ar.reshape(256,4)\n",
    "print(ar4)"
   ]
  },
  {
   "cell_type": "code",
   "execution_count": null,
   "metadata": {},
   "outputs": [],
   "source": []
  },
  {
   "cell_type": "code",
   "execution_count": null,
   "metadata": {},
   "outputs": [],
   "source": []
  },
  {
   "cell_type": "code",
   "execution_count": null,
   "metadata": {},
   "outputs": [],
   "source": []
  },
  {
   "cell_type": "code",
   "execution_count": null,
   "metadata": {},
   "outputs": [],
   "source": []
  },
  {
   "cell_type": "code",
   "execution_count": null,
   "metadata": {},
   "outputs": [],
   "source": []
  },
  {
   "cell_type": "code",
   "execution_count": null,
   "metadata": {},
   "outputs": [],
   "source": []
  },
  {
   "cell_type": "code",
   "execution_count": null,
   "metadata": {},
   "outputs": [],
   "source": []
  },
  {
   "cell_type": "code",
   "execution_count": null,
   "metadata": {},
   "outputs": [],
   "source": []
  }
 ],
 "metadata": {
  "kernelspec": {
   "display_name": "Python 3",
   "language": "python",
   "name": "python3"
  },
  "language_info": {
   "codemirror_mode": {
    "name": "ipython",
    "version": 3
   },
   "file_extension": ".py",
   "mimetype": "text/x-python",
   "name": "python",
   "nbconvert_exporter": "python",
   "pygments_lexer": "ipython3",
   "version": "3.7.3"
  }
 },
 "nbformat": 4,
 "nbformat_minor": 2
}
